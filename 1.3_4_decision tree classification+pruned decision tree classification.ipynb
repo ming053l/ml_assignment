{
 "cells": [
  {
   "cell_type": "markdown",
   "metadata": {},
   "source": [
    "## Import tools"
   ]
  },
  {
   "cell_type": "code",
   "execution_count": 3,
   "metadata": {},
   "outputs": [],
   "source": [
    "import numpy as np\n",
    "import pandas as pd"
   ]
  },
  {
   "cell_type": "markdown",
   "metadata": {},
   "source": [
    "## Get the data"
   ]
  },
  {
   "cell_type": "code",
   "execution_count": 4,
   "metadata": {
    "scrolled": false
   },
   "outputs": [],
   "source": [
    "\n",
    "def onehot_encoder(ary, columns=[], remove_trap=False):\n",
    "    df_results = pd.DataFrame()\n",
    "\n",
    "    # Iterate each column in DataFrame ary\n",
    "    for i in range(ary.shape[1]):\n",
    "        # if this column (i) is dummy column\n",
    "        if i in columns:\n",
    "            base_name = ary.columns[i]\n",
    "            this_column = pd.get_dummies(ary.iloc[:, i])\n",
    "            this_column = this_column.rename(columns={n:\"{}_{}\".format(base_name, n) for n in this_column.columns})\n",
    "            # Remove Dummy Variable Trap if needed\n",
    "            if remove_trap:\n",
    "                this_column = this_column.drop(this_column.columns[0], axis=1)\n",
    "        # else this column is normal column\n",
    "        else:\n",
    "            this_column = ary.iloc[:, i]\n",
    "        # Append this column to the Result DataFrame\n",
    "        df_results = pd.concat([df_results, this_column], axis=1)\n",
    "\n",
    "    return df_results\n"
   ]
  },
  {
   "cell_type": "markdown",
   "metadata": {},
   "source": [
    "## Node class"
   ]
  },
  {
   "cell_type": "code",
   "execution_count": 5,
   "metadata": {},
   "outputs": [],
   "source": [
    "class Node():\n",
    "    def __init__(self, feature_index=None, threshold=None, left=None, right=None, info_gain=None, value=None):\n",
    "        ''' constructor ''' \n",
    "        \n",
    "        # for decision node\n",
    "        self.feature_index = feature_index\n",
    "        self.threshold = threshold\n",
    "        self.left = left\n",
    "        self.right = right\n",
    "        self.info_gain = info_gain\n",
    "        \n",
    "        # for leaf node\n",
    "        self.value = value"
   ]
  },
  {
   "cell_type": "markdown",
   "metadata": {},
   "source": [
    "## Tree class"
   ]
  },
  {
   "cell_type": "code",
   "execution_count": 6,
   "metadata": {},
   "outputs": [],
   "source": [
    "class DecisionTreeClassifier():\n",
    "    def __init__(self, min_samples_split=2, max_depth=2):\n",
    "        ''' constructor '''\n",
    "        \n",
    "        # initialize the root of the tree \n",
    "        self.root = None\n",
    "        \n",
    "        # stopping conditions\n",
    "        self.min_samples_split = min_samples_split\n",
    "        self.max_depth = max_depth\n",
    "        \n",
    "    def build_tree(self, dataset, curr_depth=0):\n",
    "        ''' recursive function to build the tree ''' \n",
    "        \n",
    "        X, Y = dataset[:,:-1], dataset[:,-1]\n",
    "        num_samples, num_features = np.shape(X)\n",
    "        \n",
    "        # split until stopping conditions are met\n",
    "        if num_samples>=self.min_samples_split and curr_depth<=self.max_depth:\n",
    "            # find the best split\n",
    "            best_split = self.get_best_split(dataset, num_samples, num_features)\n",
    "            # check if information gain is positive\n",
    "            if best_split[\"info_gain\"]>0:\n",
    "                # recur left\n",
    "                left_subtree = self.build_tree(best_split[\"dataset_left\"], curr_depth+1)\n",
    "                # recur right\n",
    "                right_subtree = self.build_tree(best_split[\"dataset_right\"], curr_depth+1)\n",
    "                # return decision node\n",
    "                return Node(best_split[\"feature_index\"], best_split[\"threshold\"], \n",
    "                            left_subtree, right_subtree, best_split[\"info_gain\"])\n",
    "        \n",
    "        # compute leaf node\n",
    "        leaf_value = self.calculate_leaf_value(Y)\n",
    "        # return leaf node\n",
    "        return Node(value=leaf_value)\n",
    "    \n",
    "    def get_best_split(self, dataset, num_samples, num_features):\n",
    "        ''' function to find the best split '''\n",
    "        \n",
    "        # dictionary to store the best split\n",
    "        best_split = {}\n",
    "        max_info_gain = -float(\"inf\")\n",
    "        \n",
    "        # loop over all the features\n",
    "        for feature_index in range(num_features):\n",
    "            feature_values = dataset[:, feature_index]\n",
    "            possible_thresholds = np.unique(feature_values)\n",
    "            # loop over all the feature values present in the data\n",
    "            for threshold in possible_thresholds:\n",
    "                # get current split\n",
    "                dataset_left, dataset_right = self.split(dataset, feature_index, threshold)\n",
    "                # check if childs are not null\n",
    "                if len(dataset_left)>0 and len(dataset_right)>0:\n",
    "                    y, left_y, right_y = dataset[:, -1], dataset_left[:, -1], dataset_right[:, -1]\n",
    "                    # compute information gain\n",
    "                    curr_info_gain = self.information_gain(y, left_y, right_y, \"gini\")\n",
    "                    # update the best split if needed\n",
    "                    if curr_info_gain>max_info_gain:\n",
    "                        best_split[\"feature_index\"] = feature_index\n",
    "                        best_split[\"threshold\"] = threshold\n",
    "                        best_split[\"dataset_left\"] = dataset_left\n",
    "                        best_split[\"dataset_right\"] = dataset_right\n",
    "                        best_split[\"info_gain\"] = curr_info_gain\n",
    "                        max_info_gain = curr_info_gain\n",
    "                        \n",
    "        # return best split\n",
    "        return best_split\n",
    "    \n",
    "    def split(self, dataset, feature_index, threshold):\n",
    "        ''' function to split the data '''\n",
    "        \n",
    "        dataset_left = np.array([row for row in dataset if row[feature_index]<=threshold])\n",
    "        dataset_right = np.array([row for row in dataset if row[feature_index]>threshold])\n",
    "        return dataset_left, dataset_right\n",
    "    \n",
    "    def information_gain(self, parent, l_child, r_child, mode=\"entropy\"):\n",
    "        ''' function to compute information gain '''\n",
    "        \n",
    "        weight_l = len(l_child) / len(parent)\n",
    "        weight_r = len(r_child) / len(parent)\n",
    "        if mode==\"gini\":\n",
    "            gain = self.gini_index(parent) - (weight_l*self.gini_index(l_child) + weight_r*self.gini_index(r_child))\n",
    "        else:\n",
    "            gain = self.entropy(parent) - (weight_l*self.entropy(l_child) + weight_r*self.entropy(r_child))\n",
    "        return gain\n",
    "    \n",
    "    def entropy(self, y):\n",
    "        ''' function to compute entropy '''\n",
    "        \n",
    "        class_labels = np.unique(y)\n",
    "        entropy = 0\n",
    "        for cls in class_labels:\n",
    "            p_cls = len(y[y == cls]) / len(y)\n",
    "            entropy += -p_cls * np.log2(p_cls)\n",
    "        return entropy\n",
    "    \n",
    "    def gini_index(self, y):\n",
    "        ''' function to compute gini index '''\n",
    "        \n",
    "        class_labels = np.unique(y)\n",
    "        gini = 0\n",
    "        for cls in class_labels:\n",
    "            p_cls = len(y[y == cls]) / len(y)\n",
    "            gini += p_cls**2\n",
    "        return 1 - gini\n",
    "        \n",
    "    def calculate_leaf_value(self, Y):\n",
    "        ''' function to compute leaf node '''\n",
    "        \n",
    "        Y = list(Y)\n",
    "        return max(Y, key=Y.count)\n",
    "    \n",
    "    def print_tree(self, tree=None, indent=\" \"):\n",
    "        ''' function to print the tree '''\n",
    "        \n",
    "        if not tree:\n",
    "            tree = self.root\n",
    "\n",
    "        if tree.value is not None:\n",
    "            print(tree.value)\n",
    "\n",
    "        else:\n",
    "            print(\"X_\"+str(tree.feature_index), \"<=\", tree.threshold, \"?\", tree.info_gain)\n",
    "            print(\"%sleft:\" % (indent), end=\"\")\n",
    "            self.print_tree(tree.left, indent + indent)\n",
    "            print(\"%sright:\" % (indent), end=\"\")\n",
    "            self.print_tree(tree.right, indent + indent)\n",
    "    \n",
    "    def fit(self, X, Y):\n",
    "        ''' function to train the tree '''\n",
    "        \n",
    "        dataset = np.concatenate((X, Y), axis=1)\n",
    "        self.root = self.build_tree(dataset)\n",
    "    \n",
    "    def predict(self, X):\n",
    "        ''' function to predict new dataset '''\n",
    "        \n",
    "        preditions = [self.make_prediction(x, self.root) for x in X]\n",
    "        return preditions\n",
    "    \n",
    "    def make_prediction(self, x, tree):\n",
    "        ''' function to predict a single data point '''\n",
    "        \n",
    "        if tree.value!=None: return tree.value\n",
    "        feature_val = x[tree.feature_index]\n",
    "        if feature_val<=tree.threshold:\n",
    "            return self.make_prediction(x, tree.left)\n",
    "        else:\n",
    "            return self.make_prediction(x, tree.right)"
   ]
  },
  {
   "cell_type": "markdown",
   "metadata": {},
   "source": [
    "## Train-Test split"
   ]
  },
  {
   "cell_type": "code",
   "execution_count": 7,
   "metadata": {},
   "outputs": [],
   "source": [
    "train_df = pd.read_csv('./train_preproceed.csv')\n",
    "test_df = pd.read_csv('./test.csv')\n",
    "train_df_ = onehot_encoder(train_df, columns=[1, 2], remove_trap=True)\n",
    "#test_df = onehot_encoder(test_df, columns=[1, 2], remove_trap=True)\n",
    "train_df = train_df_.sample(n=1000, random_state=42)  # 使用 random_state 以确保可重复性\n",
    "X_train = train_df.iloc[:, :-1].values\n",
    "\n",
    "\n",
    "\n",
    "Y_train = train_df.iloc[:, -1].values.reshape(-1,1)\n",
    "\n",
    "val_df = train_df_.sample(n=1000, random_state=38)  # 使用 random_state 以确保可重复性\n",
    "\n",
    "\n",
    "X_test = val_df.iloc[:, :-1].values\n",
    "Y_test = val_df.iloc[:, -1].values.reshape(-1,1)\n",
    "#from sklearn.model_selection import train_test_split\n",
    "#X_train, X_test, Y_train, Y_test = train_test_split(X, Y, test_size=.2, random_state=41)"
   ]
  },
  {
   "cell_type": "markdown",
   "metadata": {},
   "source": [
    "## Fit the model"
   ]
  },
  {
   "cell_type": "code",
   "execution_count": 8,
   "metadata": {},
   "outputs": [
    {
     "name": "stdout",
     "output_type": "stream",
     "text": [
      "X_34 <= 0.107088525817622 ? 0.016547664590467304\n",
      " left:X_32 <= 0.0176580605827879 ? 0.09124227230999338\n",
      "  left:X_0 <= 8.948752612200874 ? 0.04165289256198357\n",
      "    left:X_33 <= 0.5239858988744482 ? 0.0786394557823129\n",
      "        left:X_17 <= 0.0 ? 0.08185941043083911\n",
      "                left:X_34 <= 0.010404099195886 ? 0.10208333333333341\n",
      "                                left:0.0\n",
      "                                right:X_33 <= 0.5124623763033758 ? 0.035555555555555465\n",
      "                                                                left:1.0\n",
      "                                                                right:1.0\n",
      "                right:0.0\n",
      "        right:X_15 <= 0.0 ? 0.12346938775510213\n",
      "                left:X_21 <= 0.0 ? 0.1866666666666665\n",
      "                                left:0.0\n",
      "                                right:1.0\n",
      "                right:1.0\n",
      "    right:X_27 <= 0.0 ? 0.24500000000000002\n",
      "        left:X_6 <= 0.0 ? 0.10208333333333341\n",
      "                left:X_33 <= 0.576923076923077 ? 0.035555555555555465\n",
      "                                left:0.0\n",
      "                                right:0.0\n",
      "                right:1.0\n",
      "        right:1.0\n",
      "  right:X_3 <= 0.0 ? 0.027901785714285685\n",
      "    left:X_1 <= 0.0 ? 0.017185821697099812\n",
      "        left:X_33 <= 0.557692307692308 ? 0.0028931979070484504\n",
      "                left:0.0\n",
      "                right:X_33 <= 0.563085942606798 ? 0.17999999999999994\n",
      "                                left:1.0\n",
      "                                right:0.0\n",
      "        right:X_0 <= 9.07999942845203 ? 0.4444444444444444\n",
      "                left:1.0\n",
      "                right:0.0\n",
      "    right:1.0\n",
      " right:X_33 <= 0.288461538461538 ? 0.008485516938030513\n",
      "  left:X_0 <= 9.359923901489068 ? 0.03385416666666667\n",
      "    left:0.0\n",
      "    right:0.0\n",
      "  right:X_20 <= 0.0 ? 0.005492655707324101\n",
      "    left:X_32 <= 0.1396491872578163 ? 0.010607895739317363\n",
      "        left:X_33 <= 0.5286373029047172 ? 0.011075233319832178\n",
      "                left:X_33 <= 0.509615384615385 ? 0.01219091035899078\n",
      "                                left:X_33 <= 0.5076567428915933 ? 0.013007209992159818\n",
      "                                                                left:1.0\n",
      "                                                                right:0.0\n",
      "                                right:X_32 <= 0.0 ? 0.05190311418685113\n",
      "                                                                left:1.0\n",
      "                                                                right:1.0\n",
      "                right:X_33 <= 0.557692307692308 ? 0.022925170787089\n",
      "                                left:X_33 <= 0.5448749411490503 ? 0.05555555555555558\n",
      "                                                                left:0.0\n",
      "                                                                right:0.0\n",
      "                                right:X_34 <= 1.198307658146854 ? 0.032889268677088246\n",
      "                                                                left:1.0\n",
      "                                                                right:0.0\n",
      "        right:X_34 <= 1.19863107923546 ? 0.06714878532713914\n",
      "                left:X_25 <= 0.0 ? 0.06644396650345485\n",
      "                                left:X_11 <= 0.0 ? 0.05066841989918919\n",
      "                                                                left:0.0\n",
      "                                                                right:0.0\n",
      "                                right:1.0\n",
      "                right:X_32 <= 0.16 ? 0.40816326530612246\n",
      "                                left:0.0\n",
      "                                right:1.0\n",
      "    right:X_33 <= 0.634615384615385 ? 0.008635395338997376\n",
      "        left:X_28 <= 0.0 ? 0.009984383429561094\n",
      "                left:X_32 <= 0.1559395314184311 ? 0.016692312549437205\n",
      "                                left:X_0 <= 9.226613151684113 ? 0.012723277625863061\n",
      "                                                                left:0.0\n",
      "                                                                right:1.0\n",
      "                                right:X_33 <= 0.557692307692308 ? 0.14222222222222206\n",
      "                                                                left:0.0\n",
      "                                                                right:1.0\n",
      "                right:X_33 <= 0.5435258258922159 ? 0.03061224489795905\n",
      "                                left:X_34 <= 1.118131321854286 ? 0.04691435548578404\n",
      "                                                                left:1.0\n",
      "                                                                right:0.0\n",
      "                                right:X_33 <= 0.596153846153846 ? 0.14512471655328807\n",
      "                                                                left:0.0\n",
      "                                                                right:1.0\n",
      "        right:X_0 <= 9.199546388473175 ? 0.05166817632850246\n",
      "                left:0.0\n",
      "                right:X_34 <= 1.2112725669475497 ? 0.030956463123342215\n",
      "                                left:X_32 <= 0.02 ? 0.027470876578502307\n",
      "                                                                left:1.0\n",
      "                                                                right:1.0\n",
      "                                right:0.0\n"
     ]
    }
   ],
   "source": [
    "classifier = DecisionTreeClassifier(min_samples_split=6, max_depth=6)\n",
    "classifier.fit(X_train,Y_train)\n",
    "classifier.print_tree()"
   ]
  },
  {
   "cell_type": "markdown",
   "metadata": {},
   "source": [
    "## Test the model"
   ]
  },
  {
   "cell_type": "code",
   "execution_count": 9,
   "metadata": {},
   "outputs": [
    {
     "data": {
      "text/plain": [
       "0.589"
      ]
     },
     "execution_count": 9,
     "metadata": {},
     "output_type": "execute_result"
    }
   ],
   "source": [
    "Y_pred = classifier.predict(X_test) \n",
    "from sklearn.metrics import accuracy_score\n",
    "accuracy_score(Y_test, Y_pred)"
   ]
  },
  {
   "cell_type": "markdown",
   "metadata": {},
   "source": [
    "## Pruning via reduced node_number_per_root and depth of tree, computational time is reduced accoredingly, and without performance degradation"
   ]
  },
  {
   "cell_type": "code",
   "execution_count": 10,
   "metadata": {},
   "outputs": [
    {
     "name": "stdout",
     "output_type": "stream",
     "text": [
      "X_34 <= 0.107088525817622 ? 0.016547664590467304\n",
      " left:X_32 <= 0.0176580605827879 ? 0.09124227230999338\n",
      "  left:X_0 <= 8.948752612200874 ? 0.04165289256198357\n",
      "    left:X_33 <= 0.5239858988744482 ? 0.0786394557823129\n",
      "        left:1.0\n",
      "        right:0.0\n",
      "    right:X_27 <= 0.0 ? 0.24500000000000002\n",
      "        left:0.0\n",
      "        right:1.0\n",
      "  right:X_3 <= 0.0 ? 0.027901785714285685\n",
      "    left:X_1 <= 0.0 ? 0.017185821697099812\n",
      "        left:0.0\n",
      "        right:0.0\n",
      "    right:1.0\n",
      " right:X_33 <= 0.288461538461538 ? 0.008485516938030513\n",
      "  left:X_0 <= 9.359923901489068 ? 0.03385416666666667\n",
      "    left:0.0\n",
      "    right:X_4 <= 0.0 ? 0.4444444444444444\n",
      "        left:1.0\n",
      "        right:0.0\n",
      "  right:X_20 <= 0.0 ? 0.005492655707324101\n",
      "    left:X_32 <= 0.1396491872578163 ? 0.010607895739317363\n",
      "        left:1.0\n",
      "        right:0.0\n",
      "    right:X_33 <= 0.634615384615385 ? 0.008635395338997376\n",
      "        left:1.0\n",
      "        right:1.0\n"
     ]
    }
   ],
   "source": [
    "classifier = DecisionTreeClassifier(min_samples_split=3, max_depth=3)\n",
    "classifier.fit(X_train,Y_train)\n",
    "classifier.print_tree()"
   ]
  },
  {
   "cell_type": "code",
   "execution_count": 11,
   "metadata": {},
   "outputs": [
    {
     "data": {
      "text/plain": [
       "0.561"
      ]
     },
     "execution_count": 11,
     "metadata": {},
     "output_type": "execute_result"
    }
   ],
   "source": [
    "Y_pred = classifier.predict(X_test) \n",
    "from sklearn.metrics import accuracy_score\n",
    "accuracy_score(Y_test, Y_pred)"
   ]
  }
 ],
 "metadata": {
  "kernelspec": {
   "display_name": "Python 3",
   "language": "python",
   "name": "python3"
  },
  "language_info": {
   "codemirror_mode": {
    "name": "ipython",
    "version": 3
   },
   "file_extension": ".py",
   "mimetype": "text/x-python",
   "name": "python",
   "nbconvert_exporter": "python",
   "pygments_lexer": "ipython3",
   "version": "3.8.16"
  }
 },
 "nbformat": 4,
 "nbformat_minor": 4
}
